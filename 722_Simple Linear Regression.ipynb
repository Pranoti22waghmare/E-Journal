{
 "cells": [
  {
   "cell_type": "code",
   "execution_count": 1,
   "id": "ec036ecb",
   "metadata": {},
   "outputs": [],
   "source": [
    "import pandas as pd \n",
    "import numpy as np"
   ]
  },
  {
   "cell_type": "code",
   "execution_count": 2,
   "id": "db6ff5f7",
   "metadata": {},
   "outputs": [
    {
     "data": {
      "text/html": [
       "<div>\n",
       "<style scoped>\n",
       "    .dataframe tbody tr th:only-of-type {\n",
       "        vertical-align: middle;\n",
       "    }\n",
       "\n",
       "    .dataframe tbody tr th {\n",
       "        vertical-align: top;\n",
       "    }\n",
       "\n",
       "    .dataframe thead th {\n",
       "        text-align: right;\n",
       "    }\n",
       "</style>\n",
       "<table border=\"1\" class=\"dataframe\">\n",
       "  <thead>\n",
       "    <tr style=\"text-align: right;\">\n",
       "      <th></th>\n",
       "      <th>Temperature</th>\n",
       "      <th>Revenue</th>\n",
       "    </tr>\n",
       "  </thead>\n",
       "  <tbody>\n",
       "    <tr>\n",
       "      <th>0</th>\n",
       "      <td>24.566884</td>\n",
       "      <td>534.799028</td>\n",
       "    </tr>\n",
       "    <tr>\n",
       "      <th>1</th>\n",
       "      <td>26.005191</td>\n",
       "      <td>625.190122</td>\n",
       "    </tr>\n",
       "    <tr>\n",
       "      <th>2</th>\n",
       "      <td>27.790554</td>\n",
       "      <td>660.632289</td>\n",
       "    </tr>\n",
       "    <tr>\n",
       "      <th>3</th>\n",
       "      <td>20.595335</td>\n",
       "      <td>487.706960</td>\n",
       "    </tr>\n",
       "    <tr>\n",
       "      <th>4</th>\n",
       "      <td>11.503498</td>\n",
       "      <td>316.240194</td>\n",
       "    </tr>\n",
       "    <tr>\n",
       "      <th>...</th>\n",
       "      <td>...</td>\n",
       "      <td>...</td>\n",
       "    </tr>\n",
       "    <tr>\n",
       "      <th>495</th>\n",
       "      <td>22.274899</td>\n",
       "      <td>524.746364</td>\n",
       "    </tr>\n",
       "    <tr>\n",
       "      <th>496</th>\n",
       "      <td>32.893092</td>\n",
       "      <td>755.818399</td>\n",
       "    </tr>\n",
       "    <tr>\n",
       "      <th>497</th>\n",
       "      <td>12.588157</td>\n",
       "      <td>306.090719</td>\n",
       "    </tr>\n",
       "    <tr>\n",
       "      <th>498</th>\n",
       "      <td>22.362402</td>\n",
       "      <td>566.217304</td>\n",
       "    </tr>\n",
       "    <tr>\n",
       "      <th>499</th>\n",
       "      <td>28.957736</td>\n",
       "      <td>655.660388</td>\n",
       "    </tr>\n",
       "  </tbody>\n",
       "</table>\n",
       "<p>500 rows × 2 columns</p>\n",
       "</div>"
      ],
      "text/plain": [
       "     Temperature     Revenue\n",
       "0      24.566884  534.799028\n",
       "1      26.005191  625.190122\n",
       "2      27.790554  660.632289\n",
       "3      20.595335  487.706960\n",
       "4      11.503498  316.240194\n",
       "..           ...         ...\n",
       "495    22.274899  524.746364\n",
       "496    32.893092  755.818399\n",
       "497    12.588157  306.090719\n",
       "498    22.362402  566.217304\n",
       "499    28.957736  655.660388\n",
       "\n",
       "[500 rows x 2 columns]"
      ]
     },
     "execution_count": 2,
     "metadata": {},
     "output_type": "execute_result"
    }
   ],
   "source": [
    "df = pd.read_csv(\"IceCreamData.csv\")\n",
    "df"
   ]
  },
  {
   "cell_type": "code",
   "execution_count": 3,
   "id": "db9c2239",
   "metadata": {},
   "outputs": [
    {
     "data": {
      "text/html": [
       "<div>\n",
       "<style scoped>\n",
       "    .dataframe tbody tr th:only-of-type {\n",
       "        vertical-align: middle;\n",
       "    }\n",
       "\n",
       "    .dataframe tbody tr th {\n",
       "        vertical-align: top;\n",
       "    }\n",
       "\n",
       "    .dataframe thead th {\n",
       "        text-align: right;\n",
       "    }\n",
       "</style>\n",
       "<table border=\"1\" class=\"dataframe\">\n",
       "  <thead>\n",
       "    <tr style=\"text-align: right;\">\n",
       "      <th></th>\n",
       "      <th>Temperature</th>\n",
       "      <th>Revenue</th>\n",
       "    </tr>\n",
       "  </thead>\n",
       "  <tbody>\n",
       "    <tr>\n",
       "      <th>Temperature</th>\n",
       "      <td>1.000000</td>\n",
       "      <td>0.989802</td>\n",
       "    </tr>\n",
       "    <tr>\n",
       "      <th>Revenue</th>\n",
       "      <td>0.989802</td>\n",
       "      <td>1.000000</td>\n",
       "    </tr>\n",
       "  </tbody>\n",
       "</table>\n",
       "</div>"
      ],
      "text/plain": [
       "             Temperature   Revenue\n",
       "Temperature     1.000000  0.989802\n",
       "Revenue         0.989802  1.000000"
      ]
     },
     "execution_count": 3,
     "metadata": {},
     "output_type": "execute_result"
    }
   ],
   "source": [
    "df.corr()"
   ]
  },
  {
   "cell_type": "code",
   "execution_count": 4,
   "id": "f3a74e42",
   "metadata": {},
   "outputs": [
    {
     "name": "stdout",
     "output_type": "stream",
     "text": [
      "<class 'pandas.core.frame.DataFrame'>\n",
      "RangeIndex: 500 entries, 0 to 499\n",
      "Data columns (total 2 columns):\n",
      " #   Column       Non-Null Count  Dtype  \n",
      "---  ------       --------------  -----  \n",
      " 0   Temperature  500 non-null    float64\n",
      " 1   Revenue      500 non-null    float64\n",
      "dtypes: float64(2)\n",
      "memory usage: 7.9 KB\n"
     ]
    }
   ],
   "source": [
    "df.info()"
   ]
  },
  {
   "cell_type": "code",
   "execution_count": 5,
   "id": "f96094ce",
   "metadata": {},
   "outputs": [
    {
     "data": {
      "text/plain": [
       "Temperature    0\n",
       "Revenue        0\n",
       "dtype: int64"
      ]
     },
     "execution_count": 5,
     "metadata": {},
     "output_type": "execute_result"
    }
   ],
   "source": [
    "df.isnull().sum()"
   ]
  },
  {
   "cell_type": "code",
   "execution_count": 6,
   "id": "57a8b749",
   "metadata": {},
   "outputs": [],
   "source": [
    "x = df['Temperature'].values.reshape(-1,1) #independent variable\n",
    "y = df['Revenue'].values.reshape(-1,1) #dependent variable"
   ]
  },
  {
   "cell_type": "code",
   "execution_count": 7,
   "id": "42662c15",
   "metadata": {},
   "outputs": [],
   "source": [
    "from matplotlib import pyplot as plt"
   ]
  },
  {
   "cell_type": "code",
   "execution_count": 8,
   "id": "814d719c",
   "metadata": {},
   "outputs": [
    {
     "data": {
      "text/plain": [
       "<matplotlib.collections.PathCollection at 0x1ee9db42310>"
      ]
     },
     "execution_count": 8,
     "metadata": {},
     "output_type": "execute_result"
    },
    {
     "data": {
      "image/png": "[encoded data removed]",
      "text/plain": [
       "<Figure size 432x288 with 1 Axes>"
      ]
     },
     "metadata": {
      "needs_background": "light"
     },
     "output_type": "display_data"
    }
   ],
   "source": [
    "plt.scatter(x,y)"
   ]
  },
  {
   "cell_type": "code",
   "execution_count": 9,
   "id": "188d43f6",
   "metadata": {},
   "outputs": [
    {
     "data": {
      "text/plain": [
       "(500, 2)"
      ]
     },
     "execution_count": 9,
     "metadata": {},
     "output_type": "execute_result"
    }
   ],
   "source": [
    "df.shape"
   ]
  },
  {
   "cell_type": "code",
   "execution_count": 10,
   "id": "379d5020",
   "metadata": {},
   "outputs": [],
   "source": [
    "from sklearn.model_selection import train_test_split\n",
    "x_train,x_test,y_train,y_test = train_test_split(x,y,random_state=0,test_size=0.1)"
   ]
  },
  {
   "cell_type": "code",
   "execution_count": 11,
   "id": "40b6f6ac",
   "metadata": {},
   "outputs": [
    {
     "data": {
      "text/plain": [
       "(450, 1)"
      ]
     },
     "execution_count": 11,
     "metadata": {},
     "output_type": "execute_result"
    }
   ],
   "source": [
    "x_train.shape"
   ]
  },
  {
   "cell_type": "code",
   "execution_count": 12,
   "id": "75d2b004",
   "metadata": {},
   "outputs": [
    {
     "data": {
      "text/plain": [
       "(50, 1)"
      ]
     },
     "execution_count": 12,
     "metadata": {},
     "output_type": "execute_result"
    }
   ],
   "source": [
    "x_test.shape"
   ]
  },
  {
   "cell_type": "code",
   "execution_count": 13,
   "id": "b4e73d31",
   "metadata": {
    "scrolled": true
   },
   "outputs": [
    {
     "data": {
      "text/plain": [
       "array([[30.42779184],\n",
       "       [28.33536277],\n",
       "       [28.86558895],\n",
       "       [18.90848865],\n",
       "       [28.90019172],\n",
       "       [18.48314099],\n",
       "       [25.11606991],\n",
       "       [26.96421749],\n",
       "       [28.99373705],\n",
       "       [19.75470829],\n",
       "       [23.38514451],\n",
       "       [18.57811922],\n",
       "       [26.9236056 ],\n",
       "       [15.52116187],\n",
       "       [15.02911176],\n",
       "       [41.92444647],\n",
       "       [39.5131548 ],\n",
       "       [30.24724825],\n",
       "       [23.34903419],\n",
       "       [17.51707397],\n",
       "       [16.14582413],\n",
       "       [25.71796257],\n",
       "       [11.13270573],\n",
       "       [28.43656665],\n",
       "       [15.67648661],\n",
       "       [17.13279538],\n",
       "       [15.21456942],\n",
       "       [21.68442569],\n",
       "       [20.26501213],\n",
       "       [19.19495126],\n",
       "       [27.72143999],\n",
       "       [11.05909651],\n",
       "       [12.57151377],\n",
       "       [19.81463838],\n",
       "       [23.98464085],\n",
       "       [23.05621357],\n",
       "       [12.27096675],\n",
       "       [21.61064376],\n",
       "       [24.5288527 ],\n",
       "       [32.00436506],\n",
       "       [18.43998163],\n",
       "       [20.94791347],\n",
       "       [24.34910395],\n",
       "       [18.60275025],\n",
       "       [40.47398918],\n",
       "       [26.00519115],\n",
       "       [23.15300185],\n",
       "       [ 7.2613484 ],\n",
       "       [30.22810362],\n",
       "       [14.28719594]])"
      ]
     },
     "execution_count": 13,
     "metadata": {},
     "output_type": "execute_result"
    }
   ],
   "source": [
    "x_test"
   ]
  },
  {
   "cell_type": "code",
   "execution_count": 14,
   "id": "4fe57ac1",
   "metadata": {},
   "outputs": [],
   "source": [
    "from sklearn.linear_model import LinearRegression"
   ]
  },
  {
   "cell_type": "code",
   "execution_count": 15,
   "id": "bed697eb",
   "metadata": {},
   "outputs": [],
   "source": [
    "lr = LinearRegression()"
   ]
  },
  {
   "cell_type": "code",
   "execution_count": 16,
   "id": "12264933",
   "metadata": {},
   "outputs": [
    {
     "data": {
      "text/plain": [
       "LinearRegression()"
      ]
     },
     "execution_count": 16,
     "metadata": {},
     "output_type": "execute_result"
    }
   ],
   "source": [
    "lr.fit(x_train,y_train) "
   ]
  },
  {
   "cell_type": "code",
   "execution_count": 17,
   "id": "7ce1d6b6",
   "metadata": {},
   "outputs": [],
   "source": [
    "y_pred = lr.predict(x_test)"
   ]
  },
  {
   "cell_type": "code",
   "execution_count": 18,
   "id": "730a0cec",
   "metadata": {
    "scrolled": true
   },
   "outputs": [
    {
     "data": {
      "text/html": [
       "<div>\n",
       "<style scoped>\n",
       "    .dataframe tbody tr th:only-of-type {\n",
       "        vertical-align: middle;\n",
       "    }\n",
       "\n",
       "    .dataframe tbody tr th {\n",
       "        vertical-align: top;\n",
       "    }\n",
       "\n",
       "    .dataframe thead th {\n",
       "        text-align: right;\n",
       "    }\n",
       "</style>\n",
       "<table border=\"1\" class=\"dataframe\">\n",
       "  <thead>\n",
       "    <tr style=\"text-align: right;\">\n",
       "      <th></th>\n",
       "      <th>Y</th>\n",
       "      <th>y_hat</th>\n",
       "      <th>residuals</th>\n",
       "    </tr>\n",
       "  </thead>\n",
       "  <tbody>\n",
       "    <tr>\n",
       "      <th>0</th>\n",
       "      <td>704.281439</td>\n",
       "      <td>697.707072</td>\n",
       "      <td>6.574367</td>\n",
       "    </tr>\n",
       "    <tr>\n",
       "      <th>1</th>\n",
       "      <td>632.901914</td>\n",
       "      <td>652.739041</td>\n",
       "      <td>-19.837127</td>\n",
       "    </tr>\n",
       "    <tr>\n",
       "      <th>2</th>\n",
       "      <td>662.558990</td>\n",
       "      <td>664.134040</td>\n",
       "      <td>-1.575050</td>\n",
       "    </tr>\n",
       "    <tr>\n",
       "      <th>3</th>\n",
       "      <td>449.813300</td>\n",
       "      <td>450.147723</td>\n",
       "      <td>-0.334423</td>\n",
       "    </tr>\n",
       "    <tr>\n",
       "      <th>4</th>\n",
       "      <td>636.298374</td>\n",
       "      <td>664.877682</td>\n",
       "      <td>-28.579308</td>\n",
       "    </tr>\n",
       "    <tr>\n",
       "      <th>5</th>\n",
       "      <td>469.909033</td>\n",
       "      <td>441.006651</td>\n",
       "      <td>28.902383</td>\n",
       "    </tr>\n",
       "    <tr>\n",
       "      <th>6</th>\n",
       "      <td>587.221246</td>\n",
       "      <td>583.553776</td>\n",
       "      <td>3.667470</td>\n",
       "    </tr>\n",
       "    <tr>\n",
       "      <th>7</th>\n",
       "      <td>581.074005</td>\n",
       "      <td>623.271996</td>\n",
       "      <td>-42.197991</td>\n",
       "    </tr>\n",
       "    <tr>\n",
       "      <th>8</th>\n",
       "      <td>675.828916</td>\n",
       "      <td>666.888049</td>\n",
       "      <td>8.940867</td>\n",
       "    </tr>\n",
       "    <tr>\n",
       "      <th>9</th>\n",
       "      <td>493.710333</td>\n",
       "      <td>468.333683</td>\n",
       "      <td>25.376650</td>\n",
       "    </tr>\n",
       "    <tr>\n",
       "      <th>10</th>\n",
       "      <td>506.432135</td>\n",
       "      <td>546.354759</td>\n",
       "      <td>-39.922623</td>\n",
       "    </tr>\n",
       "    <tr>\n",
       "      <th>11</th>\n",
       "      <td>427.138369</td>\n",
       "      <td>443.047811</td>\n",
       "      <td>-15.909442</td>\n",
       "    </tr>\n",
       "    <tr>\n",
       "      <th>12</th>\n",
       "      <td>644.488633</td>\n",
       "      <td>622.399213</td>\n",
       "      <td>22.089420</td>\n",
       "    </tr>\n",
       "    <tr>\n",
       "      <th>13</th>\n",
       "      <td>350.629036</td>\n",
       "      <td>377.351271</td>\n",
       "      <td>-26.722234</td>\n",
       "    </tr>\n",
       "    <tr>\n",
       "      <th>14</th>\n",
       "      <td>366.247714</td>\n",
       "      <td>366.776707</td>\n",
       "      <td>-0.528993</td>\n",
       "    </tr>\n",
       "    <tr>\n",
       "      <th>15</th>\n",
       "      <td>965.493040</td>\n",
       "      <td>944.779684</td>\n",
       "      <td>20.713356</td>\n",
       "    </tr>\n",
       "    <tr>\n",
       "      <th>16</th>\n",
       "      <td>898.805423</td>\n",
       "      <td>892.959033</td>\n",
       "      <td>5.846390</td>\n",
       "    </tr>\n",
       "    <tr>\n",
       "      <th>17</th>\n",
       "      <td>648.453609</td>\n",
       "      <td>693.827041</td>\n",
       "      <td>-45.373432</td>\n",
       "    </tr>\n",
       "    <tr>\n",
       "      <th>18</th>\n",
       "      <td>586.138767</td>\n",
       "      <td>545.578718</td>\n",
       "      <td>40.560049</td>\n",
       "    </tr>\n",
       "    <tr>\n",
       "      <th>19</th>\n",
       "      <td>405.661446</td>\n",
       "      <td>420.245072</td>\n",
       "      <td>-14.583626</td>\n",
       "    </tr>\n",
       "    <tr>\n",
       "      <th>20</th>\n",
       "      <td>395.273750</td>\n",
       "      <td>390.775779</td>\n",
       "      <td>4.497971</td>\n",
       "    </tr>\n",
       "    <tr>\n",
       "      <th>21</th>\n",
       "      <td>572.537048</td>\n",
       "      <td>596.488947</td>\n",
       "      <td>-23.951899</td>\n",
       "    </tr>\n",
       "    <tr>\n",
       "      <th>22</th>\n",
       "      <td>288.158145</td>\n",
       "      <td>283.039720</td>\n",
       "      <td>5.118425</td>\n",
       "    </tr>\n",
       "    <tr>\n",
       "      <th>23</th>\n",
       "      <td>643.788331</td>\n",
       "      <td>654.913996</td>\n",
       "      <td>-11.125665</td>\n",
       "    </tr>\n",
       "    <tr>\n",
       "      <th>24</th>\n",
       "      <td>396.935648</td>\n",
       "      <td>380.689328</td>\n",
       "      <td>16.246321</td>\n",
       "    </tr>\n",
       "    <tr>\n",
       "      <th>25</th>\n",
       "      <td>412.082357</td>\n",
       "      <td>411.986607</td>\n",
       "      <td>0.095750</td>\n",
       "    </tr>\n",
       "    <tr>\n",
       "      <th>26</th>\n",
       "      <td>353.325633</td>\n",
       "      <td>370.762345</td>\n",
       "      <td>-17.436712</td>\n",
       "    </tr>\n",
       "    <tr>\n",
       "      <th>27</th>\n",
       "      <td>478.598509</td>\n",
       "      <td>509.804905</td>\n",
       "      <td>-31.206397</td>\n",
       "    </tr>\n",
       "    <tr>\n",
       "      <th>28</th>\n",
       "      <td>474.749392</td>\n",
       "      <td>479.300534</td>\n",
       "      <td>-4.551142</td>\n",
       "    </tr>\n",
       "    <tr>\n",
       "      <th>29</th>\n",
       "      <td>463.065614</td>\n",
       "      <td>456.304042</td>\n",
       "      <td>6.761573</td>\n",
       "    </tr>\n",
       "    <tr>\n",
       "      <th>30</th>\n",
       "      <td>654.894955</td>\n",
       "      <td>639.545333</td>\n",
       "      <td>15.349621</td>\n",
       "    </tr>\n",
       "    <tr>\n",
       "      <th>31</th>\n",
       "      <td>306.749930</td>\n",
       "      <td>281.457797</td>\n",
       "      <td>25.292133</td>\n",
       "    </tr>\n",
       "    <tr>\n",
       "      <th>32</th>\n",
       "      <td>319.349462</td>\n",
       "      <td>313.960895</td>\n",
       "      <td>5.388568</td>\n",
       "    </tr>\n",
       "    <tr>\n",
       "      <th>33</th>\n",
       "      <td>471.701557</td>\n",
       "      <td>469.621630</td>\n",
       "      <td>2.079927</td>\n",
       "    </tr>\n",
       "    <tr>\n",
       "      <th>34</th>\n",
       "      <td>559.135869</td>\n",
       "      <td>559.238431</td>\n",
       "      <td>-0.102561</td>\n",
       "    </tr>\n",
       "    <tr>\n",
       "      <th>35</th>\n",
       "      <td>552.819351</td>\n",
       "      <td>539.285761</td>\n",
       "      <td>13.533590</td>\n",
       "    </tr>\n",
       "    <tr>\n",
       "      <th>36</th>\n",
       "      <td>335.156856</td>\n",
       "      <td>307.501891</td>\n",
       "      <td>27.654965</td>\n",
       "    </tr>\n",
       "    <tr>\n",
       "      <th>37</th>\n",
       "      <td>537.664801</td>\n",
       "      <td>508.219271</td>\n",
       "      <td>29.445530</td>\n",
       "    </tr>\n",
       "    <tr>\n",
       "      <th>38</th>\n",
       "      <td>594.110352</td>\n",
       "      <td>570.933993</td>\n",
       "      <td>23.176359</td>\n",
       "    </tr>\n",
       "    <tr>\n",
       "      <th>39</th>\n",
       "      <td>675.807151</td>\n",
       "      <td>731.588934</td>\n",
       "      <td>-55.781783</td>\n",
       "    </tr>\n",
       "    <tr>\n",
       "      <th>40</th>\n",
       "      <td>463.480508</td>\n",
       "      <td>440.079120</td>\n",
       "      <td>23.401388</td>\n",
       "    </tr>\n",
       "    <tr>\n",
       "      <th>41</th>\n",
       "      <td>500.925065</td>\n",
       "      <td>493.976649</td>\n",
       "      <td>6.948416</td>\n",
       "    </tr>\n",
       "    <tr>\n",
       "      <th>42</th>\n",
       "      <td>572.672047</td>\n",
       "      <td>567.071044</td>\n",
       "      <td>5.601004</td>\n",
       "    </tr>\n",
       "    <tr>\n",
       "      <th>43</th>\n",
       "      <td>472.549343</td>\n",
       "      <td>443.577152</td>\n",
       "      <td>28.972190</td>\n",
       "    </tr>\n",
       "    <tr>\n",
       "      <th>44</th>\n",
       "      <td>918.391232</td>\n",
       "      <td>913.608158</td>\n",
       "      <td>4.783074</td>\n",
       "    </tr>\n",
       "    <tr>\n",
       "      <th>45</th>\n",
       "      <td>625.190122</td>\n",
       "      <td>602.661727</td>\n",
       "      <td>22.528395</td>\n",
       "    </tr>\n",
       "    <tr>\n",
       "      <th>46</th>\n",
       "      <td>506.493748</td>\n",
       "      <td>541.365821</td>\n",
       "      <td>-34.872073</td>\n",
       "    </tr>\n",
       "    <tr>\n",
       "      <th>47</th>\n",
       "      <td>223.435016</td>\n",
       "      <td>199.841051</td>\n",
       "      <td>23.593965</td>\n",
       "    </tr>\n",
       "    <tr>\n",
       "      <th>48</th>\n",
       "      <td>679.712058</td>\n",
       "      <td>693.415607</td>\n",
       "      <td>-13.703548</td>\n",
       "    </tr>\n",
       "    <tr>\n",
       "      <th>49</th>\n",
       "      <td>322.592741</td>\n",
       "      <td>350.832323</td>\n",
       "      <td>-28.239582</td>\n",
       "    </tr>\n",
       "  </tbody>\n",
       "</table>\n",
       "</div>"
      ],
      "text/plain": [
       "             Y       y_hat  residuals\n",
       "0   704.281439  697.707072   6.574367\n",
       "1   632.901914  652.739041 -19.837127\n",
       "2   662.558990  664.134040  -1.575050\n",
       "3   449.813300  450.147723  -0.334423\n",
       "4   636.298374  664.877682 -28.579308\n",
       "5   469.909033  441.006651  28.902383\n",
       "6   587.221246  583.553776   3.667470\n",
       "7   581.074005  623.271996 -42.197991\n",
       "8   675.828916  666.888049   8.940867\n",
       "9   493.710333  468.333683  25.376650\n",
       "10  506.432135  546.354759 -39.922623\n",
       "11  427.138369  443.047811 -15.909442\n",
       "12  644.488633  622.399213  22.089420\n",
       "13  350.629036  377.351271 -26.722234\n",
       "14  366.247714  366.776707  -0.528993\n",
       "15  965.493040  944.779684  20.713356\n",
       "16  898.805423  892.959033   5.846390\n",
       "17  648.453609  693.827041 -45.373432\n",
       "18  586.138767  545.578718  40.560049\n",
       "19  405.661446  420.245072 -14.583626\n",
       "20  395.273750  390.775779   4.497971\n",
       "21  572.537048  596.488947 -23.951899\n",
       "22  288.158145  283.039720   5.118425\n",
       "23  643.788331  654.913996 -11.125665\n",
       "24  396.935648  380.689328  16.246321\n",
       "25  412.082357  411.986607   0.095750\n",
       "26  353.325633  370.762345 -17.436712\n",
       "27  478.598509  509.804905 -31.206397\n",
       "28  474.749392  479.300534  -4.551142\n",
       "29  463.065614  456.304042   6.761573\n",
       "30  654.894955  639.545333  15.349621\n",
       "31  306.749930  281.457797  25.292133\n",
       "32  319.349462  313.960895   5.388568\n",
       "33  471.701557  469.621630   2.079927\n",
       "34  559.135869  559.238431  -0.102561\n",
       "35  552.819351  539.285761  13.533590\n",
       "36  335.156856  307.501891  27.654965\n",
       "37  537.664801  508.219271  29.445530\n",
       "38  594.110352  570.933993  23.176359\n",
       "39  675.807151  731.588934 -55.781783\n",
       "40  463.480508  440.079120  23.401388\n",
       "41  500.925065  493.976649   6.948416\n",
       "42  572.672047  567.071044   5.601004\n",
       "43  472.549343  443.577152  28.972190\n",
       "44  918.391232  913.608158   4.783074\n",
       "45  625.190122  602.661727  22.528395\n",
       "46  506.493748  541.365821 -34.872073\n",
       "47  223.435016  199.841051  23.593965\n",
       "48  679.712058  693.415607 -13.703548\n",
       "49  322.592741  350.832323 -28.239582"
      ]
     },
     "execution_count": 18,
     "metadata": {},
     "output_type": "execute_result"
    }
   ],
   "source": [
    "prediction = pd.DataFrame(y_test,columns = ['Y'])\n",
    "prediction['y_hat'] = y_pred\n",
    "prediction['residuals'] = y_test - y_pred\n",
    "prediction"
   ]
  },
  {
   "cell_type": "code",
   "execution_count": 19,
   "id": "7bb21c34",
   "metadata": {},
   "outputs": [],
   "source": [
    "m = lr.coef_ #slope"
   ]
  },
  {
   "cell_type": "code",
   "execution_count": 20,
   "id": "5dcb0d43",
   "metadata": {},
   "outputs": [],
   "source": [
    "b = lr.intercept_ #y_intersept"
   ]
  },
  {
   "cell_type": "code",
   "execution_count": 21,
   "id": "41fb9a6f",
   "metadata": {
    "scrolled": true
   },
   "outputs": [
    {
     "data": {
      "text/plain": [
       "array([[30.42779184],\n",
       "       [28.33536277],\n",
       "       [28.86558895],\n",
       "       [18.90848865],\n",
       "       [28.90019172],\n",
       "       [18.48314099],\n",
       "       [25.11606991],\n",
       "       [26.96421749],\n",
       "       [28.99373705],\n",
       "       [19.75470829],\n",
       "       [23.38514451],\n",
       "       [18.57811922],\n",
       "       [26.9236056 ],\n",
       "       [15.52116187],\n",
       "       [15.02911176],\n",
       "       [41.92444647],\n",
       "       [39.5131548 ],\n",
       "       [30.24724825],\n",
       "       [23.34903419],\n",
       "       [17.51707397],\n",
       "       [16.14582413],\n",
       "       [25.71796257],\n",
       "       [11.13270573],\n",
       "       [28.43656665],\n",
       "       [15.67648661],\n",
       "       [17.13279538],\n",
       "       [15.21456942],\n",
       "       [21.68442569],\n",
       "       [20.26501213],\n",
       "       [19.19495126],\n",
       "       [27.72143999],\n",
       "       [11.05909651],\n",
       "       [12.57151377],\n",
       "       [19.81463838],\n",
       "       [23.98464085],\n",
       "       [23.05621357],\n",
       "       [12.27096675],\n",
       "       [21.61064376],\n",
       "       [24.5288527 ],\n",
       "       [32.00436506],\n",
       "       [18.43998163],\n",
       "       [20.94791347],\n",
       "       [24.34910395],\n",
       "       [18.60275025],\n",
       "       [40.47398918],\n",
       "       [26.00519115],\n",
       "       [23.15300185],\n",
       "       [ 7.2613484 ],\n",
       "       [30.22810362],\n",
       "       [14.28719594]])"
      ]
     },
     "execution_count": 21,
     "metadata": {},
     "output_type": "execute_result"
    }
   ],
   "source": [
    "x_test"
   ]
  },
  {
   "cell_type": "code",
   "execution_count": 22,
   "id": "080096f6",
   "metadata": {},
   "outputs": [
    {
     "data": {
      "text/plain": [
       "array([[697.70707182]])"
      ]
     },
     "execution_count": 22,
     "metadata": {},
     "output_type": "execute_result"
    }
   ],
   "source": [
    "y_1 = m * 30.42779184 + b\n",
    "y_1"
   ]
  },
  {
   "cell_type": "code",
   "execution_count": 23,
   "id": "dfd69b2e",
   "metadata": {},
   "outputs": [],
   "source": [
    "from sklearn.metrics import mean_squared_error"
   ]
  },
  {
   "cell_type": "code",
   "execution_count": 24,
   "id": "2bbc697e",
   "metadata": {},
   "outputs": [
    {
     "data": {
      "text/plain": [
       "510.36278285590174"
      ]
     },
     "execution_count": 24,
     "metadata": {},
     "output_type": "execute_result"
    }
   ],
   "source": [
    "mse = mean_squared_error(y_test,y_pred)\n",
    "mse"
   ]
  },
  {
   "cell_type": "code",
   "execution_count": 25,
   "id": "3df6980b",
   "metadata": {},
   "outputs": [
    {
     "data": {
      "text/plain": [
       "[<matplotlib.lines.Line2D at 0x1eea06b5fd0>]"
      ]
     },
     "execution_count": 25,
     "metadata": {},
     "output_type": "execute_result"
    },
    {
     "data": {
      "image/png": "[encoded data removed]",
      "text/plain": [
       "<Figure size 432x288 with 1 Axes>"
      ]
     },
     "metadata": {
      "needs_background": "light"
     },
     "output_type": "display_data"
    }
   ],
   "source": [
    "plt.scatter(x,y)\n",
    "plt.plot(x_test,y_pred,color = 'red')"
   ]
  },
  {
   "cell_type": "code",
   "execution_count": null,
   "id": "a5ba6fc3",
   "metadata": {},
   "outputs": [],
   "source": []
  }
 ],
 "metadata": {
  "kernelspec": {
   "display_name": "Python 3 (ipykernel)",
   "language": "python",
   "name": "python3"
  },
  "language_info": {
   "codemirror_mode": {
    "name": "ipython",
    "version": 3
   },
   "file_extension": ".py",
   "mimetype": "text/x-python",
   "name": "python",
   "nbconvert_exporter": "python",
   "pygments_lexer": "ipython3",
   "version": "3.9.7"
  }
 },
 "nbformat": 4,
 "nbformat_minor": 5
}
